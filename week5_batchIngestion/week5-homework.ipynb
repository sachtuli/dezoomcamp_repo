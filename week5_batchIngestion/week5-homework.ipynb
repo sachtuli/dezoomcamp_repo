{
 "cells": [
  {
   "cell_type": "code",
   "execution_count": 3,
   "id": "26b29063",
   "metadata": {},
   "outputs": [],
   "source": [
    "import pyspark\n",
    "from pyspark.sql import SparkSession\n",
    "from pyspark.sql import types\n",
    "from pyspark.sql import functions as func\n"
   ]
  },
  {
   "cell_type": "code",
   "execution_count": 7,
   "id": "a8ec89f6",
   "metadata": {},
   "outputs": [
    {
     "name": "stdout",
     "output_type": "stream",
     "text": [
      "--2022-03-02 14:05:07--  https://nyc-tlc.s3.amazonaws.com/trip+data/fhvhv_tripdata_2021-02.csv\n",
      "Resolving nyc-tlc.s3.amazonaws.com (nyc-tlc.s3.amazonaws.com)... 52.216.111.67\n",
      "Connecting to nyc-tlc.s3.amazonaws.com (nyc-tlc.s3.amazonaws.com)|52.216.111.67|:443... connected.\n",
      "HTTP request sent, awaiting response... 200 OK\n",
      "Length: 733822658 (700M) [text/csv]\n",
      "Saving to: ‘./data/fhvhv_tripdata_2021-02.csv’\n",
      "\n",
      "fhvhv_tripdata_2021 100%[===================>] 699.83M  11.1MB/s    in 67s     \n",
      "\n",
      "2022-03-02 14:06:15 (10.5 MB/s) - ‘./data/fhvhv_tripdata_2021-02.csv’ saved [733822658/733822658]\n",
      "\n"
     ]
    }
   ],
   "source": [
    "!mkdir -p ./data\n",
    "!wget -P ./data https://nyc-tlc.s3.amazonaws.com/trip+data/fhvhv_tripdata_2021-02.csv"
   ]
  },
  {
   "cell_type": "code",
   "execution_count": 8,
   "id": "12675f26",
   "metadata": {},
   "outputs": [],
   "source": [
    "spark = SparkSession.builder \\\n",
    "    .master(\"local[*]\") \\\n",
    "    .appName('test') \\\n",
    "    .getOrCreate()"
   ]
  },
  {
   "cell_type": "code",
   "execution_count": 9,
   "id": "557532a2",
   "metadata": {},
   "outputs": [
    {
     "name": "stderr",
     "output_type": "stream",
     "text": [
      "                                                                                \r"
     ]
    }
   ],
   "source": [
    "fhvhv_df = spark.read \\\n",
    ".option(\"header\",\"true\") \\\n",
    ".csv(\"./data/fhvhv_tripdata_2021-02.csv\")"
   ]
  },
  {
   "cell_type": "code",
   "execution_count": 10,
   "id": "8e81ed94",
   "metadata": {},
   "outputs": [
    {
     "name": "stdout",
     "output_type": "stream",
     "text": [
      "root\n",
      " |-- hvfhs_license_num: string (nullable = true)\n",
      " |-- dispatching_base_num: string (nullable = true)\n",
      " |-- pickup_datetime: string (nullable = true)\n",
      " |-- dropoff_datetime: string (nullable = true)\n",
      " |-- PULocationID: string (nullable = true)\n",
      " |-- DOLocationID: string (nullable = true)\n",
      " |-- SR_Flag: string (nullable = true)\n",
      "\n"
     ]
    }
   ],
   "source": [
    "fhvhv_df.printSchema()"
   ]
  },
  {
   "cell_type": "code",
   "execution_count": 11,
   "id": "e0c356a1",
   "metadata": {},
   "outputs": [
    {
     "name": "stdout",
     "output_type": "stream",
     "text": [
      "+-----------------+--------------------+-------------------+-------------------+------------+------------+-------+\n",
      "|hvfhs_license_num|dispatching_base_num|    pickup_datetime|   dropoff_datetime|PULocationID|DOLocationID|SR_Flag|\n",
      "+-----------------+--------------------+-------------------+-------------------+------------+------------+-------+\n",
      "|           HV0003|              B02764|2021-02-01 00:10:40|2021-02-01 00:21:09|          35|          39|   null|\n",
      "|           HV0003|              B02764|2021-02-01 00:27:23|2021-02-01 00:44:01|          39|          35|   null|\n",
      "|           HV0005|              B02510|2021-02-01 00:28:38|2021-02-01 00:38:27|          39|          91|   null|\n",
      "|           HV0005|              B02510|2021-02-01 00:43:37|2021-02-01 01:23:20|          91|         228|   null|\n",
      "|           HV0003|              B02872|2021-02-01 00:08:42|2021-02-01 00:17:57|         126|         250|   null|\n",
      "|           HV0003|              B02872|2021-02-01 00:26:02|2021-02-01 00:42:51|         208|         243|   null|\n",
      "|           HV0003|              B02872|2021-02-01 00:45:50|2021-02-01 01:02:50|         243|         220|   null|\n",
      "|           HV0003|              B02764|2021-02-01 00:06:42|2021-02-01 00:31:50|          49|          37|   null|\n",
      "|           HV0003|              B02764|2021-02-01 00:34:34|2021-02-01 00:58:13|          37|          76|   null|\n",
      "|           HV0005|              B02510|2021-02-01 00:03:43|2021-02-01 00:39:37|          80|         241|   null|\n",
      "|           HV0005|              B02510|2021-02-01 00:55:36|2021-02-01 01:08:39|         174|          51|   null|\n",
      "|           HV0005|              B02510|2021-02-01 00:06:13|2021-02-01 00:33:45|         235|         129|   null|\n",
      "|           HV0005|              B02510|2021-02-01 00:42:24|2021-02-01 01:11:31|         129|         169|   null|\n",
      "|           HV0003|              B02764|2021-02-01 00:07:05|2021-02-01 00:20:53|         226|          82|   null|\n",
      "|           HV0003|              B02764|2021-02-01 00:28:56|2021-02-01 00:33:59|          82|         129|   null|\n",
      "|           HV0003|              B02764|2021-02-01 00:44:53|2021-02-01 01:07:54|           7|          79|   null|\n",
      "|           HV0003|              B02888|2021-02-01 00:17:55|2021-02-01 00:34:41|           4|         170|   null|\n",
      "|           HV0003|              B02888|2021-02-01 00:38:14|2021-02-01 00:59:20|         164|          42|   null|\n",
      "|           HV0004|              B02800|2021-02-01 00:08:04|2021-02-01 00:24:41|         237|           4|   null|\n",
      "|           HV0004|              B02800|2021-02-01 00:30:44|2021-02-01 00:41:26|         107|          45|   null|\n",
      "+-----------------+--------------------+-------------------+-------------------+------------+------------+-------+\n",
      "only showing top 20 rows\n",
      "\n"
     ]
    }
   ],
   "source": [
    "fhvhv_df.show()"
   ]
  },
  {
   "cell_type": "code",
   "execution_count": 12,
   "id": "2ef317ee",
   "metadata": {},
   "outputs": [
    {
     "data": {
      "text/plain": [
       "StructType(List(StructField(hvfhs_license_num,StringType,true),StructField(dispatching_base_num,StringType,true),StructField(pickup_datetime,StringType,true),StructField(dropoff_datetime,StringType,true),StructField(PULocationID,StringType,true),StructField(DOLocationID,StringType,true),StructField(SR_Flag,StringType,true)))"
      ]
     },
     "execution_count": 12,
     "metadata": {},
     "output_type": "execute_result"
    }
   ],
   "source": [
    "fhvhv_df.schema"
   ]
  },
  {
   "cell_type": "code",
   "execution_count": 13,
   "id": "0ce0b174",
   "metadata": {},
   "outputs": [],
   "source": [
    "schema = types.StructType([\n",
    "\ttypes.StructField('hvfhs_license_num',types.StringType(),True),\n",
    "\ttypes.StructField('dispatching_base_num',types.StringType(),True),\n",
    "\ttypes.StructField('pickup_datetime',types.TimestampType(),True),\n",
    "\ttypes.StructField('dropoff_datetime',types.TimestampType(),True),\n",
    "\ttypes.StructField('PULocationID',types.IntegerType(),True),\n",
    "\ttypes.StructField('DOLocationID',types.IntegerType(),True),\n",
    "\ttypes.StructField('SR_Flag',types.StringType(),True)\n",
    "])"
   ]
  },
  {
   "cell_type": "code",
   "execution_count": 16,
   "id": "0eec4e1b",
   "metadata": {},
   "outputs": [],
   "source": [
    "df = spark.read \\\n",
    ".option(\"header\",\"true\") \\\n",
    ".schema(schema) \\\n",
    ".csv(\"./data/fhvhv_tripdata_2021-02.csv\")"
   ]
  },
  {
   "cell_type": "code",
   "execution_count": 17,
   "id": "57768970",
   "metadata": {},
   "outputs": [],
   "source": [
    "partitioned_df = df.repartition(24)"
   ]
  },
  {
   "cell_type": "code",
   "execution_count": 18,
   "id": "bbcf91ed",
   "metadata": {},
   "outputs": [
    {
     "name": "stderr",
     "output_type": "stream",
     "text": [
      "                                                                                \r"
     ]
    }
   ],
   "source": [
    "partitioned_df.write.parquet(\"./data/parquet_data/\",mode='overwrite')"
   ]
  },
  {
   "cell_type": "code",
   "execution_count": 20,
   "id": "4d6ce390",
   "metadata": {},
   "outputs": [],
   "source": [
    "df = spark.read.parquet(\"./data/parquet_data/\")"
   ]
  },
  {
   "cell_type": "code",
   "execution_count": 22,
   "id": "689f2679",
   "metadata": {},
   "outputs": [
    {
     "name": "stdout",
     "output_type": "stream",
     "text": [
      "+-----------------+--------------------+-------------------+-------------------+------------+------------+-------+\n",
      "|hvfhs_license_num|dispatching_base_num|    pickup_datetime|   dropoff_datetime|PULocationID|DOLocationID|SR_Flag|\n",
      "+-----------------+--------------------+-------------------+-------------------+------------+------------+-------+\n",
      "|           HV0003|              B02866|2021-02-05 18:53:32|2021-02-05 19:00:26|          91|         155|   null|\n",
      "|           HV0003|              B02876|2021-02-03 20:04:21|2021-02-03 20:19:09|          29|         154|   null|\n",
      "|           HV0003|              B02888|2021-02-04 00:26:03|2021-02-04 00:40:33|         151|         229|   null|\n",
      "|           HV0003|              B02887|2021-02-05 08:21:19|2021-02-05 08:26:49|         215|         215|   null|\n",
      "|           HV0003|              B02764|2021-02-01 21:54:16|2021-02-01 22:09:23|          25|          49|   null|\n",
      "|           HV0003|              B02872|2021-02-06 03:20:12|2021-02-06 03:30:25|         160|          36|   null|\n",
      "|           HV0003|              B02835|2021-02-03 09:01:38|2021-02-03 09:18:43|         241|         185|   null|\n",
      "|           HV0003|              B02872|2021-02-06 16:08:35|2021-02-06 16:18:55|           4|          87|   null|\n",
      "|           HV0003|              B02875|2021-02-02 10:32:32|2021-02-02 10:51:27|         220|         265|   null|\n",
      "|           HV0005|              B02510|2021-02-02 15:26:11|2021-02-02 15:55:04|         151|         163|   null|\n",
      "|           HV0005|              B02510|2021-02-03 15:40:30|2021-02-03 15:49:55|         185|          32|   null|\n",
      "|           HV0004|              B02800|2021-02-03 14:08:20|2021-02-03 14:24:18|         244|          50|   null|\n",
      "|           HV0003|              B02869|2021-02-04 06:38:46|2021-02-04 06:54:01|          79|         230|   null|\n",
      "|           HV0003|              B02875|2021-02-05 08:31:18|2021-02-05 08:47:49|         254|         242|   null|\n",
      "|           HV0003|              B02884|2021-02-05 12:59:02|2021-02-05 13:01:07|          48|          48|   null|\n",
      "|           HV0003|              B02871|2021-02-03 12:04:20|2021-02-03 12:10:22|          23|          23|   null|\n",
      "|           HV0003|              B02876|2021-02-02 19:27:33|2021-02-02 19:31:33|         218|         219|   null|\n",
      "|           HV0005|              B02510|2021-02-04 13:44:02|2021-02-04 14:25:39|          47|         126|   null|\n",
      "|           HV0003|              B02867|2021-02-02 14:51:58|2021-02-02 15:05:57|         231|         164|   null|\n",
      "|           HV0005|              B02510|2021-02-02 10:27:18|2021-02-02 10:43:28|         151|         237|   null|\n",
      "+-----------------+--------------------+-------------------+-------------------+------------+------------+-------+\n",
      "only showing top 20 rows\n",
      "\n"
     ]
    }
   ],
   "source": [
    "df.show()"
   ]
  },
  {
   "cell_type": "code",
   "execution_count": 21,
   "id": "ca808221",
   "metadata": {},
   "outputs": [
    {
     "name": "stdout",
     "output_type": "stream",
     "text": [
      "root\n",
      " |-- hvfhs_license_num: string (nullable = true)\n",
      " |-- dispatching_base_num: string (nullable = true)\n",
      " |-- pickup_datetime: timestamp (nullable = true)\n",
      " |-- dropoff_datetime: timestamp (nullable = true)\n",
      " |-- PULocationID: integer (nullable = true)\n",
      " |-- DOLocationID: integer (nullable = true)\n",
      " |-- SR_Flag: string (nullable = true)\n",
      "\n"
     ]
    }
   ],
   "source": [
    "df.printSchema()"
   ]
  },
  {
   "cell_type": "code",
   "execution_count": 23,
   "id": "64aff2f0",
   "metadata": {},
   "outputs": [
    {
     "data": {
      "text/plain": [
       "11613942"
      ]
     },
     "execution_count": 23,
     "metadata": {},
     "output_type": "execute_result"
    }
   ],
   "source": [
    "df.count()"
   ]
  },
  {
   "cell_type": "code",
   "execution_count": 25,
   "id": "1af0b0b4",
   "metadata": {},
   "outputs": [],
   "source": [
    "df.createOrReplaceTempView(\"hvfhw_2021_02\")"
   ]
  },
  {
   "cell_type": "code",
   "execution_count": 26,
   "id": "39345a01",
   "metadata": {},
   "outputs": [
    {
     "name": "stdout",
     "output_type": "stream",
     "text": [
      "+-----------------+--------------------+-------------------+-------------------+------------+------------+-------+\n",
      "|hvfhs_license_num|dispatching_base_num|    pickup_datetime|   dropoff_datetime|PULocationID|DOLocationID|SR_Flag|\n",
      "+-----------------+--------------------+-------------------+-------------------+------------+------------+-------+\n",
      "|           HV0003|              B02866|2021-02-05 18:53:32|2021-02-05 19:00:26|          91|         155|   null|\n",
      "|           HV0003|              B02876|2021-02-03 20:04:21|2021-02-03 20:19:09|          29|         154|   null|\n",
      "|           HV0003|              B02888|2021-02-04 00:26:03|2021-02-04 00:40:33|         151|         229|   null|\n",
      "|           HV0003|              B02887|2021-02-05 08:21:19|2021-02-05 08:26:49|         215|         215|   null|\n",
      "|           HV0003|              B02764|2021-02-01 21:54:16|2021-02-01 22:09:23|          25|          49|   null|\n",
      "|           HV0003|              B02872|2021-02-06 03:20:12|2021-02-06 03:30:25|         160|          36|   null|\n",
      "|           HV0003|              B02835|2021-02-03 09:01:38|2021-02-03 09:18:43|         241|         185|   null|\n",
      "|           HV0003|              B02872|2021-02-06 16:08:35|2021-02-06 16:18:55|           4|          87|   null|\n",
      "|           HV0003|              B02875|2021-02-02 10:32:32|2021-02-02 10:51:27|         220|         265|   null|\n",
      "|           HV0005|              B02510|2021-02-02 15:26:11|2021-02-02 15:55:04|         151|         163|   null|\n",
      "|           HV0005|              B02510|2021-02-03 15:40:30|2021-02-03 15:49:55|         185|          32|   null|\n",
      "|           HV0004|              B02800|2021-02-03 14:08:20|2021-02-03 14:24:18|         244|          50|   null|\n",
      "|           HV0003|              B02869|2021-02-04 06:38:46|2021-02-04 06:54:01|          79|         230|   null|\n",
      "|           HV0003|              B02875|2021-02-05 08:31:18|2021-02-05 08:47:49|         254|         242|   null|\n",
      "|           HV0003|              B02884|2021-02-05 12:59:02|2021-02-05 13:01:07|          48|          48|   null|\n",
      "+-----------------+--------------------+-------------------+-------------------+------------+------------+-------+\n",
      "only showing top 15 rows\n",
      "\n"
     ]
    }
   ],
   "source": [
    "df.show(15)"
   ]
  },
  {
   "cell_type": "code",
   "execution_count": 27,
   "id": "ca85db9b",
   "metadata": {},
   "outputs": [
    {
     "name": "stderr",
     "output_type": "stream",
     "text": [
      "[Stage 11:>                                                         (0 + 4) / 4]\r"
     ]
    },
    {
     "name": "stdout",
     "output_type": "stream",
     "text": [
      "+--------+\n",
      "|count(1)|\n",
      "+--------+\n",
      "|  367170|\n",
      "+--------+\n",
      "\n"
     ]
    },
    {
     "name": "stderr",
     "output_type": "stream",
     "text": [
      "                                                                                \r"
     ]
    }
   ],
   "source": [
    "spark.sql(\"\"\"\n",
    "select count(1) from hvfhw_2021_02\n",
    "where pickup_datetime >= '2021-02-15 00:00:00' and pickup_datetime <= '2021-02-15 23:59:59'\n",
    "\"\"\").show()"
   ]
  },
  {
   "cell_type": "code",
   "execution_count": 28,
   "id": "33c59e59",
   "metadata": {},
   "outputs": [],
   "source": [
    "timeformat=\"yyyy-MM-dd'T'HH:mm:ss.SSS\""
   ]
  },
  {
   "cell_type": "code",
   "execution_count": 29,
   "id": "f69c4e72",
   "metadata": {},
   "outputs": [
    {
     "name": "stderr",
     "output_type": "stream",
     "text": [
      "                                                                                \r"
     ]
    },
    {
     "name": "stdout",
     "output_type": "stream",
     "text": [
      "+-----------+------------+--------+\n",
      "|pickup_date|dropoff_date|duration|\n",
      "+-----------+------------+--------+\n",
      "| 2021-02-11|  2021-02-12|   75540|\n",
      "| 2021-02-17|  2021-02-18|   57221|\n",
      "| 2021-02-20|  2021-02-21|   44039|\n",
      "| 2021-02-03|  2021-02-04|   40653|\n",
      "| 2021-02-19|  2021-02-20|   37577|\n",
      "| 2021-02-25|  2021-02-26|   35010|\n",
      "| 2021-02-20|  2021-02-20|   34806|\n",
      "| 2021-02-18|  2021-02-19|   34612|\n",
      "| 2021-02-18|  2021-02-18|   34555|\n",
      "| 2021-02-10|  2021-02-11|   34169|\n",
      "| 2021-02-10|  2021-02-10|   32476|\n",
      "| 2021-02-25|  2021-02-25|   32439|\n",
      "| 2021-02-21|  2021-02-22|   32223|\n",
      "| 2021-02-09|  2021-02-10|   32087|\n",
      "| 2021-02-06|  2021-02-06|   31447|\n",
      "| 2021-02-02|  2021-02-02|   30913|\n",
      "| 2021-02-10|  2021-02-10|   30856|\n",
      "| 2021-02-09|  2021-02-09|   30732|\n",
      "| 2021-02-21|  2021-02-22|   30660|\n",
      "| 2021-02-05|  2021-02-06|   30511|\n",
      "+-----------+------------+--------+\n",
      "only showing top 20 rows\n",
      "\n"
     ]
    }
   ],
   "source": [
    "df \\\n",
    " .withColumn('pickup_date',func.to_date(df.pickup_datetime)) \\\n",
    " .withColumn('dropoff_date',func.to_date(df.dropoff_datetime)) \\\n",
    " .withColumn('duration',(func.unix_timestamp(df.dropoff_datetime, format=timeformat) - func.unix_timestamp(df.pickup_datetime, format=timeformat))) \\\n",
    " .select('pickup_date','dropoff_date','duration') \\\n",
    " .orderBy('duration',ascending=False) \\\n",
    " .show()"
   ]
  },
  {
   "cell_type": "code",
   "execution_count": 35,
   "id": "d65e2704",
   "metadata": {},
   "outputs": [
    {
     "name": "stderr",
     "output_type": "stream",
     "text": [
      "[Stage 21:=============================>                            (2 + 2) / 4]\r"
     ]
    },
    {
     "name": "stdout",
     "output_type": "stream",
     "text": [
      "+--------------------+----------------+\n",
      "|dispatching_base_num|total_dispatches|\n",
      "+--------------------+----------------+\n",
      "|              B02510|         3233664|\n",
      "|              B02764|          965568|\n",
      "|              B02872|          882689|\n",
      "|              B02875|          685390|\n",
      "|              B02765|          559768|\n",
      "|              B02869|          429720|\n",
      "|              B02887|          322331|\n",
      "|              B02871|          312364|\n",
      "|              B02864|          311603|\n",
      "|              B02866|          311089|\n",
      "|              B02878|          305185|\n",
      "|              B02682|          303255|\n",
      "|              B02617|          274510|\n",
      "|              B02883|          251617|\n",
      "|              B02884|          244963|\n",
      "|              B02882|          232173|\n",
      "|              B02876|          215693|\n",
      "|              B02879|          210137|\n",
      "|              B02867|          200530|\n",
      "|              B02877|          198938|\n",
      "+--------------------+----------------+\n",
      "only showing top 20 rows\n",
      "\n"
     ]
    },
    {
     "name": "stderr",
     "output_type": "stream",
     "text": [
      "                                                                                \r"
     ]
    }
   ],
   "source": [
    "df_most_frequent_dispatching = spark.sql(\"\"\"\n",
    "select dispatching_base_num,\n",
    "     COUNT(dispatching_base_num) AS total_dispatches\n",
    "     FROM hvfhw_2021_02\n",
    "     GROUP BY dispatching_base_num\n",
    "     ORDER by COUNT(dispatching_base_num) desc\n",
    "\"\"\").show()"
   ]
  },
  {
   "cell_type": "code",
   "execution_count": 36,
   "id": "d44e2b86",
   "metadata": {},
   "outputs": [],
   "source": [
    "df_zones = spark.read \\\n",
    ".option(\"header\",\"true\") \\\n",
    ".csv(\"./taxi+_zone_lookup.csv\")"
   ]
  },
  {
   "cell_type": "code",
   "execution_count": 38,
   "id": "9860b5b5",
   "metadata": {},
   "outputs": [],
   "source": [
    "df_zones.write.parquet(\"./data/parquet_zones\",mode='overwrite')"
   ]
  },
  {
   "cell_type": "code",
   "execution_count": 39,
   "id": "c15431bb",
   "metadata": {},
   "outputs": [],
   "source": [
    "df_zones = spark.read.parquet(\"./data/parquet_zones\")"
   ]
  },
  {
   "cell_type": "code",
   "execution_count": 40,
   "id": "17b8c45c",
   "metadata": {},
   "outputs": [],
   "source": [
    "df_zones.createOrReplaceTempView(\"common_zones\")"
   ]
  },
  {
   "cell_type": "code",
   "execution_count": 41,
   "id": "8fa83475",
   "metadata": {},
   "outputs": [],
   "source": [
    "df_zone_most_common = spark.sql(\"\"\"\n",
    "SELECT CONCAT(pz.Zone,'/',dz.Zone) AS pickuplocation_and_droplocation,COUNT(CONCAT(pz.Zone,'/',dz.Zone)) AS total\n",
    "FROM hvfhw_2021_02\n",
    "INNER JOIN common_zones AS pz on hvfhw_2021_02.PULocationID = pz.LocationID\n",
    "INNER JOIN common_zones AS dz on hvfhw_2021_02.DOLocationID = dz.LocationID\n",
    "GROUP BY pz.Zone,dz.Zone\n",
    "ORDER BY COUNT(CONCAT(pz.Zone,'/',dz.Zone)) DESC\n",
    "\"\"\")"
   ]
  },
  {
   "cell_type": "code",
   "execution_count": 42,
   "id": "2ddacf63",
   "metadata": {},
   "outputs": [
    {
     "name": "stderr",
     "output_type": "stream",
     "text": [
      "                                                                                \r"
     ]
    }
   ],
   "source": [
    "df_zone_most_common.write.parquet(\"./data/most_common_zones/\",mode=\"overwrite\")"
   ]
  },
  {
   "cell_type": "code",
   "execution_count": 44,
   "id": "1df06f4c",
   "metadata": {},
   "outputs": [],
   "source": [
    "df_zone_most_common = spark.read.parquet(\"./data/most_common_zones/\")"
   ]
  },
  {
   "cell_type": "code",
   "execution_count": 46,
   "id": "a3fa370e",
   "metadata": {},
   "outputs": [
    {
     "data": {
      "text/plain": [
       "[Row(pickuplocation_and_droplocation='East New York/East New York', total=45041),\n",
       " Row(pickuplocation_and_droplocation='Borough Park/Borough Park', total=37329),\n",
       " Row(pickuplocation_and_droplocation='Canarsie/Canarsie', total=28026),\n",
       " Row(pickuplocation_and_droplocation='Crown Heights North/Crown Heights North', total=25976),\n",
       " Row(pickuplocation_and_droplocation='Bay Ridge/Bay Ridge', total=17934)]"
      ]
     },
     "execution_count": 46,
     "metadata": {},
     "output_type": "execute_result"
    }
   ],
   "source": [
    "df_zone_most_common.head(5)"
   ]
  }
 ],
 "metadata": {
  "kernelspec": {
   "display_name": "Python 3 (ipykernel)",
   "language": "python",
   "name": "python3"
  },
  "language_info": {
   "codemirror_mode": {
    "name": "ipython",
    "version": 3
   },
   "file_extension": ".py",
   "mimetype": "text/x-python",
   "name": "python",
   "nbconvert_exporter": "python",
   "pygments_lexer": "ipython3",
   "version": "3.9.7"
  }
 },
 "nbformat": 4,
 "nbformat_minor": 5
}
